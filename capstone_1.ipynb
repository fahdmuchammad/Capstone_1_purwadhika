{
 "cells": [
  {
   "cell_type": "code",
   "execution_count": 568,
   "metadata": {},
   "outputs": [
    {
     "name": "stdout",
     "output_type": "stream",
     "text": [
      "{1: {'a': 1}, 2: {'b': 3}}\n"
     ]
    }
   ],
   "source": [
    "data = {1:{'a':1}}\n",
    "data[2] = {'b':3}\n",
    "print(data)"
   ]
  },
  {
   "cell_type": "code",
   "execution_count": 569,
   "metadata": {},
   "outputs": [
    {
     "name": "stdout",
     "output_type": "stream",
     "text": [
      "{1: {'a': 1}, 2: {'b': 3}, 4: {'c': 3}}\n"
     ]
    }
   ],
   "source": [
    "i=len(data)\n",
    "data[4]={'c':3}\n",
    "print(data)"
   ]
  },
  {
   "cell_type": "code",
   "execution_count": 570,
   "metadata": {},
   "outputs": [],
   "source": [
    "patient = {\n",
    "    1: {\"name\": \"Zainal\", \"room_id\": 1,\"patient_id\":\"Zai01\",\"disease\":\"Stomach\",\"status\":\"Good\"},\n",
    "    2: {\"name\": \"Abidin\", \"room_id\": 1,\"patient_id\":\"Abi02\",\"disease\":\"Gerd\",\"status\":\"Bad\"},\n",
    "    3: {\"name\": \"Daniel\", \"room_id\": 1,\"patient_id\":\"Dan03\",\"disease\":\"DBD\",\"status\":\"Normal\"},\n",
    "    4: {\"name\": \"David\", \"room_id\": 1,\"patient_id\":\"Dav04\",\"disease\":\"Influenza\",\"status\":\"Good\"},\n",
    "    5: {\"name\": \"Ridwan\", \"room_id\": 1,\"patient_id\":\"Rid05\",\"disease\":\"Kidney\",\"status\":\"Normal\"},\n",
    "    6: {\"name\": \"Raihan\", \"room_id\": 1,\"patient_id\":\"Rai06\",\"disease\":\"Diabetes\",\"status\":\"Bad\"},\n",
    "    7: {\"name\": \"Rizz\", \"room_id\": 2,\"patient_id\":\"Riz07\",\"disease\":\"Kolesterol\",\"status\":\"Bad\"},\n",
    "    8: {\"name\": \"Sigit\", \"room_id\": 2,\"patient_id\":\"Sig08\",\"disease\":\"Anemia\",\"status\":\"Normal\"},\n",
    "    9: {\"name\": \"Stevi\", \"room_id\": 2,\"patient_id\":\"Ste09\",\"disease\":\"Diare\",\"status\":\"Good\"},\n",
    "    10: {\"name\": \"Jack\", \"room_id\": 2,\"patient_id\":\"Jac10\",\"disease\":\"Diabetes\",\"status\":\"Good\"},\n",
    "}\n",
    "rooms = {\n",
    "    1: {\"class\":\"regular\",\"max_capacity\": 6, \"occupants\": ['Zainal','Abidin','Daniel','David','Ridwan','Raihan']},\n",
    "    2: {\"class\":\"vip\",\"max_capacity\": 4, \"occupants\": ['Rizz','Sigit','Stevi','Jack']},\n",
    "    3: {\"class\":\"vvip\",\"max_capacity\": 2, \"occupants\": []}\n",
    "}"
   ]
  },
  {
   "cell_type": "code",
   "execution_count": 571,
   "metadata": {},
   "outputs": [
    {
     "name": "stdout",
     "output_type": "stream",
     "text": [
      "{8: {'name': 'Sigit', 'room_id': 2, 'patient_id': 'Sig08', 'disease': 'Anemia', 'status': 'Normal'}, 3: {'name': 'Daniel', 'room_id': 1, 'patient_id': 'Dan03', 'disease': 'DBD', 'status': 'Normal'}, 6: {'name': 'Raihan', 'room_id': 1, 'patient_id': 'Rai06', 'disease': 'Diabetes', 'status': 'Bad'}, 10: {'name': 'Jack', 'room_id': 2, 'patient_id': 'Jac10', 'disease': 'Diabetes', 'status': 'Good'}, 9: {'name': 'Stevi', 'room_id': 2, 'patient_id': 'Ste09', 'disease': 'Diare', 'status': 'Good'}, 2: {'name': 'Abidin', 'room_id': 1, 'patient_id': 'Abi02', 'disease': 'Gerd', 'status': 'Bad'}, 4: {'name': 'David', 'room_id': 1, 'patient_id': 'Dav04', 'disease': 'Influenza', 'status': 'Good'}, 5: {'name': 'Ridwan', 'room_id': 1, 'patient_id': 'Rid05', 'disease': 'Kidney', 'status': 'Normal'}, 7: {'name': 'Rizz', 'room_id': 2, 'patient_id': 'Riz07', 'disease': 'Kolesterol', 'status': 'Bad'}, 1: {'name': 'Zainal', 'room_id': 1, 'patient_id': 'Zai01', 'disease': 'Stomach', 'status': 'Good'}}\n"
     ]
    }
   ],
   "source": [
    "sorted_patient = dict(sorted(patient.items(), key=lambda item: item[1]['disease']))\n",
    "print(sorted_patient)"
   ]
  },
  {
   "cell_type": "code",
   "execution_count": 572,
   "metadata": {},
   "outputs": [
    {
     "name": "stdout",
     "output_type": "stream",
     "text": [
      "['Zainal', 'Abidin', 'Daniel', 'David', 'Ridwan', 'Raihan']\n",
      "['Rizz', 'Sigit', 'Stevi', 'Jack']\n",
      "[]\n"
     ]
    }
   ],
   "source": [
    "for x,y in rooms.items():\n",
    "    print(y['occupants'])"
   ]
  },
  {
   "cell_type": "code",
   "execution_count": 573,
   "metadata": {},
   "outputs": [
    {
     "name": "stdout",
     "output_type": "stream",
     "text": [
      "index\tNama\truangan\tpatid\tpenyakit\tstatus\t\n",
      "1\tZainal\t1\tZai01\t   Stomach\tGood\t\n",
      "2\tAbidin\t1\tAbi02\t      Gerd\tBad\t\n",
      "3\tDaniel\t1\tDan03\t       DBD\tNormal\t\n",
      "4\tDavid\t1\tDav04\t Influenza\tGood\t\n",
      "5\tRidwan\t1\tRid05\t    Kidney\tNormal\t\n",
      "6\tRaihan\t1\tRai06\t  Diabetes\tBad\t\n",
      "7\tRizz\t2\tRiz07\tKolesterol\tBad\t\n",
      "8\tSigit\t2\tSig08\t    Anemia\tNormal\t\n",
      "9\tStevi\t2\tSte09\t     Diare\tGood\t\n",
      "10\tJack\t2\tJac10\t  Diabetes\tGood\t\n"
     ]
    }
   ],
   "source": [
    "print('index\\tNama\\truangan\\tpatid\\tpenyakit\\tstatus\\t')\n",
    "for index ,info in patient.items():\n",
    "        name = info['name']\n",
    "        room = info['room_id']\n",
    "        patientid = info['patient_id']\n",
    "        disease = info['disease']\n",
    "        status = info['status']\n",
    "        print(f'{index}\\t{name}\\t{room}\\t{patientid}\\t{disease:>10}\\t{status}\\t')\n",
    "\n",
    "#TEST AJA"
   ]
  },
  {
   "cell_type": "code",
   "execution_count": 574,
   "metadata": {},
   "outputs": [],
   "source": [
    "def show_patient():\n",
    "    print('Index\\tNama\\truangan\\tpatid\\tpenyakit\\tstatus\\t')\n",
    "    for index ,info in patient.items():\n",
    "        name = info['name']\n",
    "        room = info['room_id']\n",
    "        patientid = info['patient_id']\n",
    "        disease = info['disease']\n",
    "        status = info['status']\n",
    "        print(f'{index}\\t{name}\\t{room}\\t{patientid}\\t{disease:>10}\\t{status}\\t')\n",
    "    print('------------------------------------------------------')\n"
   ]
  },
  {
   "cell_type": "code",
   "execution_count": 575,
   "metadata": {},
   "outputs": [
    {
     "name": "stdout",
     "output_type": "stream",
     "text": [
      "['Zainal', 'Abidin', 'Daniel', 'David', 'Ridwan', 'Raihan']\n",
      "['Rizz', 'Sigit', 'Stevi', 'Jack']\n",
      "[]\n"
     ]
    }
   ],
   "source": [
    "for index ,room_info in rooms.items():\n",
    "    room_fill = room_info['occupants']\n",
    "    print(room_fill)\n",
    "#TEST AJA"
   ]
  },
  {
   "cell_type": "code",
   "execution_count": 576,
   "metadata": {},
   "outputs": [],
   "source": [
    "def show_room():\n",
    "    print('Index\\tClass\\tMax_capacity\\tOccupants\\t')\n",
    "    for index ,room_info in rooms.items():\n",
    "        room_name = room_info['class']\n",
    "        rom_max = room_info['max_capacity']\n",
    "        room_fill = room_info['occupants']\n",
    "        print(f'{index}\\t{room_name}\\t{rom_max:>10}\\t{room_fill}\\t')\n",
    "    print('------------------------------------------------------')"
   ]
  },
  {
   "cell_type": "code",
   "execution_count": 577,
   "metadata": {},
   "outputs": [],
   "source": [
    "def find_patient():\n",
    "    print('YOU ONLY CAN FILTER NAME OF THE PATIENT')\n",
    "    print('Patient Name : ')\n",
    "    patient_nama=input('Patient name:')\n",
    "    print(patient_nama)\n",
    "    print('Index\\tNama\\truangan\\tpatid\\tpenyakit\\tstatus\\t')\n",
    "    for index ,info in patient.items():\n",
    "        if info['name'].lower()==patient_nama.lower():\n",
    "            print(index,'\\t', info['name'],'\\t',info['room_id'],'\\t',info['patient_id'],'\\t',info['disease'],'\\t',info['status'])\n",
    "            break\n",
    "    else:\n",
    "        print(f'No data have name : {patient_nama}')\n",
    "    print('------------------------------------------------------')"
   ]
  },
  {
   "cell_type": "code",
   "execution_count": 578,
   "metadata": {},
   "outputs": [],
   "source": [
    "def sorted_patient():\n",
    "    print('you wanna sort by? name/disease/room_id/status')\n",
    "    sort_dcd = input('sorted!')\n",
    "    sorted_patient = dict(sorted(patient.items(), key=lambda item: item[1][sort_dcd]))\n",
    "    for index, info in sorted_patient.items():\n",
    "        name = info['name']\n",
    "        room = info['room_id']\n",
    "        patientid = info['patient_id']\n",
    "        disease = info['disease']\n",
    "        status = info['status']\n",
    "        print(f'{index}\\t{name}\\t{room}\\t{patientid}\\t{disease:>10}\\t{status}\\t')\n",
    "    print('------------------------------------------------------')"
   ]
  },
  {
   "cell_type": "code",
   "execution_count": 579,
   "metadata": {},
   "outputs": [],
   "source": [
    "def add_patient():\n",
    "    user_id = len(patient)+1\n",
    "    name = input('nama patient : ')\n",
    "    patient_id = name[:3] + str(user_id)\n",
    "    penyakit = input('disease')\n",
    "    kondisi = input('status patient')\n",
    "    patient[user_id] = {\"name\": name.capitalize(), \"room_id\": None,\"patient_id\":patient_id,\"disease\":penyakit.capitalize(),\"status\":kondisi.capitalize()}\n",
    "    print(f\"Patient {name} dengan ID {user_id} berhasil ditambahkan.\")\n",
    "    show_patient()"
   ]
  },
  {
   "cell_type": "code",
   "execution_count": 580,
   "metadata": {},
   "outputs": [],
   "source": [
    "def add_room():\n",
    "    room_id = len(rooms)+1\n",
    "    room_class = input('nama kelas : ')\n",
    "    kapasitas = 0\n",
    "    if room_class == 'vvip':\n",
    "        kapasitas+=2\n",
    "    elif room_class == 'vip':\n",
    "        kapasitas += 4\n",
    "    else:\n",
    "        kapasitas+=6\n",
    "    rooms[room_id] = {\"class\":room_class,\"max_capacity\": kapasitas, \"occupants\": []}\n",
    "    print(f\"Ruangan baru dengan kelas {room_class} dengan ID {room_id} berhasil ditambahkan.\")\n",
    "    show_room()"
   ]
  },
  {
   "cell_type": "code",
   "execution_count": 581,
   "metadata": {},
   "outputs": [],
   "source": [
    "def admin_1():\n",
    "    print('What you wanna add?')\n",
    "    print('1. ADD patient')\n",
    "    print('2. ADD Room')\n",
    "    print('0. Back')\n",
    "    menu_add = int(input('choose menu add'))\n",
    "    while menu_add != 0:\n",
    "        if menu_add == 1:\n",
    "            add_patient()\n",
    "        elif menu_add == 2:\n",
    "            add_room()\n",
    "        menu_add = int(input('choose menu add'))\n",
    "    admin()"
   ]
  },
  {
   "cell_type": "code",
   "execution_count": 582,
   "metadata": {},
   "outputs": [],
   "source": [
    "def admin_2():\n",
    "    print('Show data')\n",
    "    print('1. Data Patient')\n",
    "    print('2. Data Room')\n",
    "    print('3. Find Patient')\n",
    "    print('4. Sorted Patient')\n",
    "    print('0. Back')\n",
    "    menu_admin = int(input('menu read admin : '))\n",
    "    while menu_admin!=0:\n",
    "        if menu_admin==1:\n",
    "            show_patient()\n",
    "        elif menu_admin == 2:\n",
    "            show_room()\n",
    "        elif menu_admin ==3:\n",
    "            find_patient()\n",
    "        elif menu_admin ==4:\n",
    "            sorted_patient()\n",
    "        menu_admin = int(input('menu read admin : '))\n",
    "    admin()"
   ]
  },
  {
   "cell_type": "code",
   "execution_count": 583,
   "metadata": {},
   "outputs": [],
   "source": [
    "def update_name():\n",
    "    show_patient()\n",
    "    index = int(input('Input Index you want edit: '))\n",
    "    name = input('New Name of patients :')\n",
    "    patient[index]['name'] = name.capitalize()\n",
    "    if index < 10:\n",
    "        patient_id = name[:3] + str(0) + str(index)\n",
    "    else:\n",
    "        patient_id = name[:3] + str(index)\n",
    "    patient[index]['patient_id'] = patient_id.capitalize()\n",
    "    print(f\"Nama patient dengan ID {index} diperbarui menjadi {name}.\")\n",
    "def update_room():\n",
    "    show_patient()\n",
    "    show_room()\n",
    "    index = int(input('Input Index you want edit: '))\n",
    "    room_id = int(input('update room id : '))\n",
    "    current_room_id = patient[index]['room_id']\n",
    "    if current_room_id:\n",
    "        rooms[current_room_id]['occupants'].remove(patient[index]['name'])\n",
    "    if len(rooms[room_id]['occupants']) < rooms[room_id]['max_capacity']:\n",
    "        patient[index]['room_id'] = room_id\n",
    "        rooms[room_id]['occupants'].append(patient[index]['name'])\n",
    "        print(f\"Patient {patient[index]['name']} dipindahkan ke Room {room_id}.\")\n",
    "    else:\n",
    "        print(f\"Room {room_id} sudah penuh.\")\n",
    "def update_status():\n",
    "    show_patient()\n",
    "    index = int(input('Input Index you want edit: '))\n",
    "    status = input('New Status of patients :')\n",
    "    patient[index]['status'] = status.capitalize()\n",
    "    print(f\"status patient dengan Nama {patient[index]['name']} diperbarui menjadi {status}.\")\n",
    "def update_disease():\n",
    "    show_patient()\n",
    "    index = int(input('Input Index you want edit: '))\n",
    "    disease = input('New Disease of patients :')\n",
    "    patient[index]['disease'] = disease.capitalize()\n",
    "    print(f\"disease patient dengan Nama {patient[index]['name']} diperbarui menjadi {disease}.\")\n",
    "def update_class():\n",
    "    show_room()\n",
    "    index = int(input('index room: '))\n",
    "    if rooms[index]['occupants']:\n",
    "            print(f\"Tidak bisa mengubah class Room {index}, masih ada occupants.\")\n",
    "    else:\n",
    "        room_class_up = input('nama kelas : ')\n",
    "        rooms[index]['class'] = room_class_up\n",
    "        kapasitas = 0\n",
    "        if room_class_up == 'vvip':\n",
    "            kapasitas+=2\n",
    "        elif room_class_up == 'vip':\n",
    "            kapasitas += 4\n",
    "        else:\n",
    "            kapasitas+=6\n",
    "        rooms[index]['max_capacity'] = kapasitas\n",
    "        print(f\"Class Room {index} berhasil diubah menjadi {room_class_up} dan kapasitas menjadi {kapasitas}.\")\n",
    "    "
   ]
  },
  {
   "cell_type": "code",
   "execution_count": 584,
   "metadata": {},
   "outputs": [],
   "source": [
    "def admin_3():\n",
    "    print('menu update')\n",
    "    print('FOR PATIENT')\n",
    "    print('--------------------------')\n",
    "    print('1. update name')\n",
    "    print('2. update room')\n",
    "    print('3. update status')\n",
    "    print('4. update disease')\n",
    "    print('--------------------------')\n",
    "    print('FOR ROOOMS')\n",
    "    print('5. Update Class')\n",
    "    print('--------------------------')\n",
    "    print('0. Back')\n",
    "    update_menu = int(input('Update menu:'))\n",
    "    while update_menu != 0:\n",
    "        if update_menu == 1:\n",
    "            update_name()\n",
    "        elif update_menu == 2:\n",
    "            update_room()\n",
    "        elif update_menu == 3:\n",
    "            update_status()\n",
    "        elif update_menu == 4:\n",
    "            update_disease()\n",
    "        elif update_menu == 5:\n",
    "            update_class()\n",
    "        update_menu = int(input('Update menu:'))\n",
    "    admin()\n",
    "    "
   ]
  },
  {
   "cell_type": "code",
   "execution_count": 585,
   "metadata": {},
   "outputs": [],
   "source": [
    "def reset_patient_index():\n",
    "    global patient\n",
    "    patient = {i+1: info for i, (idx, info) in enumerate(patient.items())}\n",
    "    print(\"Index pasien telah diatur ulang.\")\n",
    "    show_patient()"
   ]
  },
  {
   "cell_type": "code",
   "execution_count": 586,
   "metadata": {},
   "outputs": [],
   "source": [
    "def delete_patient():\n",
    "    show_patient()\n",
    "    index = int(input('index patient'))\n",
    "    room_id = patient[index]['room_id']\n",
    "    if room_id:\n",
    "        rooms[room_id]['occupants'].remove(patient[index]['name'])\n",
    "        del patient[index]\n",
    "        print(f\"Patient dengan ID {index} berhasil dihapus.\")\n",
    "    else:\n",
    "        print(\"Patient tidak ditemukan.\")\n",
    "    reset_patient_index()\n",
    "def delete_rooms():\n",
    "    show_room()\n",
    "    index = int(input('index room'))\n",
    "    if rooms[index]['occupants']:\n",
    "        print(f\"Tidak bisa menghapus Room {index}, masih ada occupant.\")\n",
    "    else:\n",
    "        del rooms[index]\n",
    "        print(f\"Room dengan ID {index} berhasil dihapus.\")"
   ]
  },
  {
   "cell_type": "code",
   "execution_count": 587,
   "metadata": {},
   "outputs": [],
   "source": [
    "def admin_4():\n",
    "    print('Delete Menu')\n",
    "    print('1. Delete Patient')\n",
    "    print('2. Delete Rooms')\n",
    "    delete_menu = int(input('which menu to delete:'))\n",
    "    while delete_menu != 0:\n",
    "        if delete_menu == 1:\n",
    "            delete_patient()\n",
    "        elif delete_menu == 2:\n",
    "            delete_rooms()\n",
    "        delete_menu = int(input('which menu to delete:'))"
   ]
  },
  {
   "cell_type": "code",
   "execution_count": 588,
   "metadata": {},
   "outputs": [],
   "source": [
    "def admin():\n",
    "    print('HI ADMIN! Welcome to ADMIN DASHBOARD')\n",
    "    print('You\\'Re Super User Here')\n",
    "    print('1. Add Data')\n",
    "    print('2. Read Data')\n",
    "    print('3. Update Data')\n",
    "    print('4. Delete Data')\n",
    "    print('0. Main Menu')\n",
    "    admin_menu = int(input('Admin Menu Choose:'))\n",
    "    while admin_menu!=0:\n",
    "        if admin_menu == 1:\n",
    "            admin_1()\n",
    "        elif admin_menu == 2:\n",
    "            admin_2()\n",
    "        elif admin_menu == 3:\n",
    "            admin_3()\n",
    "        elif admin_menu == 4:\n",
    "            admin_4()\n",
    "        admin_menu = int(input('Admin Menu Choose:'))\n",
    "    # main_menu()"
   ]
  },
  {
   "cell_type": "code",
   "execution_count": 589,
   "metadata": {},
   "outputs": [],
   "source": [
    "def patient_fam():\n",
    "    print('WELCOME TO HOSPITAL DASHBOARD')\n",
    "    print('YOU ONLY CAN FILTER NAME OF THE PATIENT')\n",
    "    print('Patient Name : ')\n",
    "    patient_id=input('Patient id:')\n",
    "    print(patient_id)\n",
    "    for index ,info in patient.items():\n",
    "        if info['patient_id'].lower()==patient_id.lower():\n",
    "            print(info['name'],'\\t',info['room_id'],'\\t',info['status'])\n",
    "            break\n",
    "    else:\n",
    "        print(f'No data have name : {patient_id}')"
   ]
  },
  {
   "cell_type": "code",
   "execution_count": 590,
   "metadata": {},
   "outputs": [],
   "source": [
    "def main_menu():\n",
    "    print('What\\'s Your Role?')\n",
    "    print('1. ADMIN')\n",
    "    print('2. Patient Family')\n",
    "    print('0. Exit')\n",
    "    \n"
   ]
  },
  {
   "cell_type": "code",
   "execution_count": 591,
   "metadata": {},
   "outputs": [
    {
     "name": "stdout",
     "output_type": "stream",
     "text": [
      "What's Your Role?\n",
      "1. ADMIN\n",
      "2. Patient Family\n",
      "0. Exit\n",
      "HI ADMIN! Welcome to ADMIN DASHBOARD\n",
      "You'Re Super User Here\n",
      "1. Add Data\n",
      "2. Read Data\n",
      "3. Update Data\n",
      "4. Delete Data\n",
      "0. Main Menu\n",
      "menu update\n",
      "FOR PATIENT\n",
      "--------------------------\n",
      "1. update name\n",
      "2. update room\n",
      "3. update status\n",
      "4. update disease\n",
      "--------------------------\n",
      "FOR ROOOMS\n",
      "5. Update Class\n",
      "--------------------------\n",
      "0. Back\n",
      "Index\tNama\truangan\tpatid\tpenyakit\tstatus\t\n",
      "1\tZainal\t1\tZai01\t   Stomach\tGood\t\n",
      "2\tAbidin\t1\tAbi02\t      Gerd\tBad\t\n",
      "3\tDaniel\t1\tDan03\t       DBD\tNormal\t\n",
      "4\tDavid\t1\tDav04\t Influenza\tGood\t\n",
      "5\tRidwan\t1\tRid05\t    Kidney\tNormal\t\n",
      "6\tRaihan\t1\tRai06\t  Diabetes\tBad\t\n",
      "7\tRizz\t2\tRiz07\tKolesterol\tBad\t\n",
      "8\tSigit\t2\tSig08\t    Anemia\tNormal\t\n",
      "9\tStevi\t2\tSte09\t     Diare\tGood\t\n",
      "10\tJack\t2\tJac10\t  Diabetes\tGood\t\n",
      "------------------------------------------------------\n",
      "Index\tClass\tMax_capacity\tOccupants\t\n",
      "1\tregular\t         6\t['Zainal', 'Abidin', 'Daniel', 'David', 'Ridwan', 'Raihan']\t\n",
      "2\tvip\t         4\t['Rizz', 'Sigit', 'Stevi', 'Jack']\t\n",
      "3\tvvip\t         2\t[]\t\n",
      "------------------------------------------------------\n",
      "Room 2 sudah penuh.\n",
      "HI ADMIN! Welcome to ADMIN DASHBOARD\n",
      "You'Re Super User Here\n",
      "1. Add Data\n",
      "2. Read Data\n",
      "3. Update Data\n",
      "4. Delete Data\n",
      "0. Main Menu\n",
      "Show data\n",
      "1. Data Patient\n",
      "2. Data Room\n",
      "3. Find Patient\n",
      "4. Sorted Patient\n",
      "0. Back\n",
      "Index\tNama\truangan\tpatid\tpenyakit\tstatus\t\n",
      "1\tZainal\t1\tZai01\t   Stomach\tGood\t\n",
      "2\tAbidin\t1\tAbi02\t      Gerd\tBad\t\n",
      "3\tDaniel\t1\tDan03\t       DBD\tNormal\t\n",
      "4\tDavid\t1\tDav04\t Influenza\tGood\t\n",
      "5\tRidwan\t1\tRid05\t    Kidney\tNormal\t\n",
      "6\tRaihan\t1\tRai06\t  Diabetes\tBad\t\n",
      "7\tRizz\t2\tRiz07\tKolesterol\tBad\t\n",
      "8\tSigit\t2\tSig08\t    Anemia\tNormal\t\n",
      "9\tStevi\t2\tSte09\t     Diare\tGood\t\n",
      "10\tJack\t2\tJac10\t  Diabetes\tGood\t\n",
      "------------------------------------------------------\n",
      "HI ADMIN! Welcome to ADMIN DASHBOARD\n",
      "You'Re Super User Here\n",
      "1. Add Data\n",
      "2. Read Data\n",
      "3. Update Data\n",
      "4. Delete Data\n",
      "0. Main Menu\n"
     ]
    }
   ],
   "source": [
    "main_menu()\n",
    "role = int(input('Fill your Role!'))\n",
    "while role !=0:\n",
    "    if role == 1:\n",
    "        admin()\n",
    "    if role == 2:\n",
    "        patient_fam()\n",
    "    role = int(input('Fill your Role!'))"
   ]
  }
 ],
 "metadata": {
  "kernelspec": {
   "display_name": "base",
   "language": "python",
   "name": "python3"
  },
  "language_info": {
   "codemirror_mode": {
    "name": "ipython",
    "version": 3
   },
   "file_extension": ".py",
   "mimetype": "text/x-python",
   "name": "python",
   "nbconvert_exporter": "python",
   "pygments_lexer": "ipython3",
   "version": "3.12.4"
  }
 },
 "nbformat": 4,
 "nbformat_minor": 2
}
