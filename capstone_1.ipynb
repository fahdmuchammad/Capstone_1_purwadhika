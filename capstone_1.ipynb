{
 "cells": [
  {
   "cell_type": "code",
   "execution_count": 329,
   "metadata": {},
   "outputs": [
    {
     "name": "stdout",
     "output_type": "stream",
     "text": [
      "{1: {'a': 1}, 2: {'b': 3}}\n"
     ]
    }
   ],
   "source": [
    "data = {1:{'a':1}}\n",
    "data[2] = {'b':3}\n",
    "print(data)"
   ]
  },
  {
   "cell_type": "code",
   "execution_count": 330,
   "metadata": {},
   "outputs": [
    {
     "name": "stdout",
     "output_type": "stream",
     "text": [
      "{1: {'a': 1}, 2: {'b': 3}, 4: {'c': 3}}\n"
     ]
    }
   ],
   "source": [
    "i=len(data)\n",
    "data[4]={'c':3}\n",
    "print(data)"
   ]
  },
  {
   "cell_type": "code",
   "execution_count": 331,
   "metadata": {},
   "outputs": [],
   "source": [
    "patient = {\n",
    "    1: {\"name\": \"Zainal\", \"room_id\": 1,\"patient_id\":\"Zai01\",\"disease\":\"Stomach\",\"status\":\"Hospital\"},\n",
    "    2: {\"name\": \"Abidin\", \"room_id\": 1,\"patient_id\":\"Abi02\",\"disease\":\"Gerd\",\"status\":\"Home\"},\n",
    "    3: {\"name\": \"Daniel\", \"room_id\": 1,\"patient_id\":\"Dan03\",\"disease\":\"DBD\",\"status\":\"Hospital\"},\n",
    "    4: {\"name\": \"David\", \"room_id\": 1,\"patient_id\":\"Dav04\",\"disease\":\"Influenza\",\"status\":\"Hospital\"},\n",
    "    5: {\"name\": \"Ridwan\", \"room_id\": 1,\"patient_id\":\"Rid05\",\"disease\":\"Kidney\",\"status\":\"Hospital\"},\n",
    "    6: {\"name\": \"Raihan\", \"room_id\": 1,\"patient_id\":\"Rai06\",\"disease\":\"Diabetes\",\"status\":\"Hospital\"},\n",
    "    7: {\"name\": \"Rizz\", \"room_id\": 2,\"patient_id\":\"Riz07\",\"disease\":\"Kolesterol\",\"status\":\"Hospital\"},\n",
    "    8: {\"name\": \"Sigit\", \"room_id\": 2,\"patient_id\":\"Sig08\",\"disease\":\"Anemia\",\"status\":\"Hospital\"},\n",
    "    9: {\"name\": \"Stevi\", \"room_id\": 2,\"patient_id\":\"Ste09\",\"disease\":\"Diare\",\"status\":\"Hospital\"},\n",
    "    10: {\"name\": \"Jack\", \"room_id\": 2,\"patient_id\":\"Jac10\",\"disease\":\"Diabetes\",\"status\":\"Hospital\"},\n",
    "}\n",
    "rooms = {\n",
    "    1: {\"class\":\"regular\",\"max_capacity\": 6, \"occupants\": ['Zainal','Abidin','Daniel','David','Ridwan','Raihan']},\n",
    "    2: {\"class\":\"vip\",\"max_capacity\": 4, \"occupants\": ['Rizz','Sigit','Stevi','Jack']},\n",
    "    3: {\"class\":\"vvip\",\"max_capacity\": 2, \"occupants\": []}\n",
    "}"
   ]
  },
  {
   "cell_type": "code",
   "execution_count": 332,
   "metadata": {},
   "outputs": [
    {
     "name": "stdout",
     "output_type": "stream",
     "text": [
      "['Zainal', 'Abidin', 'Daniel', 'David', 'Ridwan', 'Raihan']\n",
      "['Rizz', 'Sigit', 'Stevi', 'Jack']\n",
      "[]\n"
     ]
    }
   ],
   "source": [
    "for x,y in rooms.items():\n",
    "    print(y['occupants'])"
   ]
  },
  {
   "cell_type": "code",
   "execution_count": 333,
   "metadata": {},
   "outputs": [
    {
     "name": "stdout",
     "output_type": "stream",
     "text": [
      "index\tNama\truangan\tpatid\tpenyakit\tstatus\t\n",
      "1\tZainal\t1\tZai01\t   Stomach\tHospital\t\n",
      "2\tAbidin\t1\tAbi02\t      Gerd\tHome\t\n",
      "3\tDaniel\t1\tDan03\t       DBD\tHospital\t\n",
      "4\tDavid\t1\tDav04\t Influenza\tHospital\t\n",
      "5\tRidwan\t1\tRid05\t    Kidney\tHospital\t\n",
      "6\tRaihan\t1\tRai06\t  Diabetes\tHospital\t\n",
      "7\tRizz\t2\tRiz07\tKolesterol\tHospital\t\n",
      "8\tSigit\t2\tSig08\t    Anemia\tHospital\t\n",
      "9\tStevi\t2\tSte09\t     Diare\tHospital\t\n",
      "10\tJack\t2\tJac10\t  Diabetes\tHospital\t\n"
     ]
    }
   ],
   "source": [
    "print('index\\tNama\\truangan\\tpatid\\tpenyakit\\tstatus\\t')\n",
    "for index ,info in patient.items():\n",
    "        name = info['name']\n",
    "        room = info['room_id']\n",
    "        patientid = info['patient_id']\n",
    "        disease = info['disease']\n",
    "        status = info['status']\n",
    "        print(f'{index}\\t{name}\\t{room}\\t{patientid}\\t{disease:>10}\\t{status}\\t')\n",
    "\n"
   ]
  },
  {
   "cell_type": "code",
   "execution_count": 334,
   "metadata": {},
   "outputs": [],
   "source": [
    "def show_patient():\n",
    "    print('Index\\tNama\\truangan\\tpatid\\tpenyakit\\tstatus\\t')\n",
    "    for index ,info in patient.items():\n",
    "        name = info['name']\n",
    "        room = info['room_id']\n",
    "        patientid = info['patient_id']\n",
    "        disease = info['disease']\n",
    "        status = info['status']\n",
    "        print(f'{index}\\t{name}\\t{room}\\t{patientid}\\t{disease:>10}\\t{status}\\t')\n",
    "    \n",
    "    # print('want to filter it?')\n",
    "    # filter_agreement = input('filter')\n",
    "\n",
    "    "
   ]
  },
  {
   "cell_type": "code",
   "execution_count": 335,
   "metadata": {},
   "outputs": [
    {
     "name": "stdout",
     "output_type": "stream",
     "text": [
      "['Zainal', 'Abidin', 'Daniel', 'David', 'Ridwan', 'Raihan']\n",
      "['Rizz', 'Sigit', 'Stevi', 'Jack']\n",
      "[]\n"
     ]
    }
   ],
   "source": [
    "for index ,room_info in rooms.items():\n",
    "    room_fill = room_info['occupants']\n",
    "    print(room_fill)"
   ]
  },
  {
   "cell_type": "code",
   "execution_count": 336,
   "metadata": {},
   "outputs": [],
   "source": [
    "def show_room():\n",
    "    print('Index\\tClass\\tMax_capacity\\tOccupants\\t')\n",
    "    for index ,room_info in rooms.items():\n",
    "        room_name = room_info['class']\n",
    "        rom_max = room_info['max_capacity']\n",
    "        room_fill = room_info['occupants']\n",
    "        print(f'{index}\\t{room_name}\\t{rom_max}\\t{room_fill}\\t')"
   ]
  },
  {
   "cell_type": "code",
   "execution_count": 337,
   "metadata": {},
   "outputs": [],
   "source": [
    "def find_patient():\n",
    "    print('YOU ONLY CAN FILTER NAME OF THE PATIENT')\n",
    "    print('Patient Name : ')\n",
    "    patient_nama=input('Patient name:')\n",
    "    print(patient_nama)\n",
    "    print('Index\\tNama\\truangan\\tpatid\\tpenyakit\\tstatus\\t')\n",
    "    for index ,info in patient.items():\n",
    "        if info['name'].lower()==patient_nama.lower():\n",
    "            print(index,'\\t', info['name'],'\\t',info['room_id'],'\\t',info['patient_id'],'\\t',info['disease'],'\\t',info['status'])\n",
    "            break\n",
    "    else:\n",
    "        print(f'No data have name : {patient_nama}')"
   ]
  },
  {
   "cell_type": "code",
   "execution_count": 338,
   "metadata": {},
   "outputs": [],
   "source": [
    "def sorted_patient():\n",
    "    sorted_patient = dict(sorted(patient.items(), key=lambda item: item[1]['name']))\n",
    "    for index, info in sorted_patient.items():\n",
    "        name = info['name']\n",
    "        room = info['room_id']\n",
    "        patientid = info['patient_id']\n",
    "        disease = info['disease']\n",
    "        status = info['status']\n",
    "        print(f'{index}\\t{name}\\t{room}\\t{patientid}\\t{disease:>10}\\t{status}\\t')"
   ]
  },
  {
   "cell_type": "code",
   "execution_count": 339,
   "metadata": {},
   "outputs": [],
   "source": [
    "def admin_1():\n",
    "    print('What you wanna add?')\n",
    "    print('1. ADD patient')\n",
    "    print('2. ADD Room')\n",
    "    menu_add = int(input('choose menu add'))\n",
    "    # if user_id in users:\n",
    "    #     print(f\"User ID {user_id} sudah ada.\")\n",
    "    # else:\n",
    "    #     users[user_id] = {\"name\": name, \"room_id\": None}\n",
    "    #     print(f\"User {name} dengan ID {user_id} berhasil ditambahkan.\")\n",
    "    print('belum ada fitur')\n",
    "        "
   ]
  },
  {
   "cell_type": "code",
   "execution_count": 340,
   "metadata": {},
   "outputs": [],
   "source": [
    "def admin_2():\n",
    "    print('Show data')\n",
    "    print('1. Data Patient')\n",
    "    print('2. Data Room')\n",
    "    print('3. Find Patient')\n",
    "    print('4. Sorted Patient')\n",
    "    print('0. Back')\n",
    "    menu_admin = int(input('menu admin : '))\n",
    "    while menu_admin!=0:\n",
    "        if menu_admin==1:\n",
    "            show_patient()\n",
    "        elif menu_admin == 2:\n",
    "            show_room()\n",
    "        elif menu_admin ==3:\n",
    "            find_patient()\n",
    "        elif menu_admin ==4:\n",
    "            sorted_patient()\n",
    "        menu_admin = int(input('menu admin : ')) "
   ]
  },
  {
   "cell_type": "code",
   "execution_count": 341,
   "metadata": {},
   "outputs": [],
   "source": [
    "def admin_3():\n",
    "    # if user_id in users:\n",
    "    #     if name:\n",
    "    #         users[user_id]['name'] = name\n",
    "    #         print(f\"Nama user dengan ID {user_id} diperbarui menjadi {name}.\")\n",
    "    #     if room_id is not None:\n",
    "    #         current_room_id = users[user_id]['room_id']\n",
    "    #         if current_room_id:\n",
    "    #             rooms[current_room_id]['occupants'].remove(users[user_id]['name'])\n",
    "    #         if len(rooms[room_id]['occupants']) < rooms[room_id]['max_capacity']:\n",
    "    #             users[user_id]['room_id'] = room_id\n",
    "    #             rooms[room_id]['occupants'].append(users[user_id]['name'])\n",
    "    #             print(f\"User {users[user_id]['name']} dipindahkan ke Room {room_id}.\")\n",
    "    #         else:\n",
    "    #             print(f\"Room {room_id} sudah penuh.\")\n",
    "    # else:\n",
    "    #     print(\"User tidak ditemukan.\")\n",
    "    print('belum ada fitur')"
   ]
  },
  {
   "cell_type": "code",
   "execution_count": 342,
   "metadata": {},
   "outputs": [],
   "source": [
    "def admin_4():\n",
    "    # if user_id in users:\n",
    "    #     room_id = users[user_id]['room_id']\n",
    "    #     if room_id:\n",
    "    #         rooms[room_id]['occupants'].remove(users[user_id]['name'])\n",
    "    #     del users[user_id]\n",
    "    #     print(f\"User dengan ID {user_id} berhasil dihapus.\")\n",
    "    # else:\n",
    "    #     print(\"User tidak ditemukan.\")\n",
    "    print('belum ada fitur')"
   ]
  },
  {
   "cell_type": "code",
   "execution_count": 343,
   "metadata": {},
   "outputs": [],
   "source": [
    "def admin():\n",
    "    print('HI ADMIN! Welcome to ADMIN DASHBOARD')\n",
    "    print('You\\'Re Super User Here')\n",
    "    print('1. Add Data')\n",
    "    print('2. Read Data')\n",
    "    print('3. Update Data')\n",
    "    print('4. Delete Data')\n",
    "    print('5. Main Menu')\n",
    "    admin_menu = int(input('Menu Choose:'))\n",
    "    if admin_menu == 1:\n",
    "        admin_1()\n",
    "    elif admin_menu == 2:\n",
    "        admin_2()\n",
    "    elif admin_menu == 3:\n",
    "        admin_3()\n",
    "    elif admin_menu == 4:\n",
    "        admin_4()\n",
    "    else:\n",
    "        main_menu()"
   ]
  },
  {
   "cell_type": "code",
   "execution_count": 344,
   "metadata": {},
   "outputs": [],
   "source": [
    "def patient_fam():\n",
    "    print('WELCOME TO HOSPITAL DASHBOARD')\n",
    "    print('YOU ONLY CAN FILTER NAME OF THE PATIENT')\n",
    "    print('Patient Name : ')\n",
    "    patient_nama=input('Patient name:')\n",
    "    print(patient_nama)\n",
    "    for index ,info in patient.items():\n",
    "        if info['name'].lower()==patient_nama.lower():\n",
    "            print(info['name'],'\\t',info['room_id'],'\\t',info['status'])\n",
    "            break\n",
    "    else:\n",
    "        print(f'No data have name : {patient_nama}')"
   ]
  },
  {
   "cell_type": "code",
   "execution_count": 345,
   "metadata": {},
   "outputs": [],
   "source": [
    "def main_menu():\n",
    "    print('What\\'s Your Role?')\n",
    "    print('1. ADMIN')\n",
    "    print('2. Patient Family')\n",
    "    \n"
   ]
  },
  {
   "cell_type": "code",
   "execution_count": 346,
   "metadata": {},
   "outputs": [
    {
     "name": "stdout",
     "output_type": "stream",
     "text": [
      "What's Your Role?\n",
      "1. ADMIN\n",
      "2. Patient Family\n",
      "HI ADMIN! Welcome to ADMIN DASHBOARD\n",
      "You'Re Super User Here\n",
      "1. Add Data\n",
      "2. Read Data\n",
      "3. Update Data\n",
      "4. Delete Data\n",
      "5. Main Menu\n",
      "Show data\n",
      "1. Data Patient\n",
      "2. Data Room\n",
      "3. Find Patient\n",
      "4. Sorted Patient\n",
      "0. Back\n",
      "2\tAbidin\t1\tAbi02\t      Gerd\tHome\t\n",
      "3\tDaniel\t1\tDan03\t       DBD\tHospital\t\n",
      "4\tDavid\t1\tDav04\t Influenza\tHospital\t\n",
      "10\tJack\t2\tJac10\t  Diabetes\tHospital\t\n",
      "6\tRaihan\t1\tRai06\t  Diabetes\tHospital\t\n",
      "5\tRidwan\t1\tRid05\t    Kidney\tHospital\t\n",
      "7\tRizz\t2\tRiz07\tKolesterol\tHospital\t\n",
      "8\tSigit\t2\tSig08\t    Anemia\tHospital\t\n",
      "9\tStevi\t2\tSte09\t     Diare\tHospital\t\n",
      "1\tZainal\t1\tZai01\t   Stomach\tHospital\t\n"
     ]
    }
   ],
   "source": [
    "main_menu()\n",
    "role = int(input('Fill your Role!'))\n",
    "while role !=0:\n",
    "    if role == 1:\n",
    "        admin()\n",
    "    if role == 2:\n",
    "        patient_fam()\n",
    "    role = int(input('Fill your Role!'))"
   ]
  }
 ],
 "metadata": {
  "kernelspec": {
   "display_name": "base",
   "language": "python",
   "name": "python3"
  },
  "language_info": {
   "codemirror_mode": {
    "name": "ipython",
    "version": 3
   },
   "file_extension": ".py",
   "mimetype": "text/x-python",
   "name": "python",
   "nbconvert_exporter": "python",
   "pygments_lexer": "ipython3",
   "version": "3.12.4"
  }
 },
 "nbformat": 4,
 "nbformat_minor": 2
}
