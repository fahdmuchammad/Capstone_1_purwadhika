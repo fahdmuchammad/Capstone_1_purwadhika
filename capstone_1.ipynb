{
 "cells": [
  {
   "cell_type": "code",
   "execution_count": 280,
   "metadata": {},
   "outputs": [
    {
     "name": "stdout",
     "output_type": "stream",
     "text": [
      "{1: {'a': 1}, 2: {'b': 3}}\n"
     ]
    }
   ],
   "source": [
    "data = {1:{'a':1}}\n",
    "data[2] = {'b':3}\n",
    "print(data)"
   ]
  },
  {
   "cell_type": "code",
   "execution_count": 281,
   "metadata": {},
   "outputs": [
    {
     "name": "stdout",
     "output_type": "stream",
     "text": [
      "{1: {'a': 1}, 2: {'b': 3}, 3: {'c': 3}}\n"
     ]
    }
   ],
   "source": [
    "i=len(data)\n",
    "data[i+1]={'c':3}\n",
    "print(data)"
   ]
  },
  {
   "cell_type": "code",
   "execution_count": 282,
   "metadata": {},
   "outputs": [],
   "source": [
    "patient = {\n",
    "    1: {\"name\": \"Zainal\", \"room_id\": 1,\"patient_id\":\"Zai01\",\"disease\":\"Stomach ache\",\"status\":\"Hospital\"},\n",
    "    2: {\"name\": \"Abidin\", \"room_id\": 1,\"patient_id\":\"Abi02\",\"disease\":\"Gerd\",\"status\":\"Home\"},\n",
    "    3: {\"name\": \"Daniel\", \"room_id\": None,\"patient_id\":\"Dan03\",\"disease\":\"DBD\",\"status\":\"Hospital\"},\n",
    "    4: {\"name\": \"David\", \"room_id\": None,\"patient_id\":\"Dav04\",\"disease\":\"Influenza\",\"status\":\"Hospital\"},\n",
    "    5: {\"name\": \"Ridwan\", \"room_id\": None,\"patient_id\":\"Rid05\",\"disease\":\"\",\"status\":\"Hospital\"},\n",
    "    6: {\"name\": \"Raihan\", \"room_id\": None,\"patient_id\":\"Rai06\",\"disease\":\"\",\"status\":\"Hospital\"},\n",
    "    7: {\"name\": \"Rizz\", \"room_id\": None,\"patient_id\":\"Riz07\",\"disease\":\"\",\"status\":\"Hospital\"},\n",
    "    8: {\"name\": \"Sigit\", \"room_id\": None,\"patient_id\":\"Sig08\",\"disease\":\"\",\"status\":\"Hospital\"},\n",
    "    9: {\"name\": \"Stevi\", \"room_id\": None,\"patient_id\":\"Ste09\",\"disease\":\"\",\"status\":\"Hospital\"},\n",
    "    10: {\"name\": \"Jack\", \"room_id\": None,\"patient_id\":\"Jac10\",\"disease\":\"\",\"status\":\"Hospital\"},\n",
    "}\n",
    "rooms = {\n",
    "    1: {\"class\":\"regular\",\"max_capacity\": 6, \"occupants\": ['Zainal']},\n",
    "    2: {\"class\":\"vip\",\"max_capacity\": 4, \"occupants\": []},\n",
    "    3: {\"class\":\"vvip\",\"max_capacity\": 2, \"occupants\": []}\n",
    "}"
   ]
  },
  {
   "cell_type": "code",
   "execution_count": 283,
   "metadata": {},
   "outputs": [
    {
     "name": "stdout",
     "output_type": "stream",
     "text": [
      "Zainal\t,1\t,Zai01\t,Stomach ache\t,Hospital\t\n",
      "Abidin\t,None\t,Abi02\t,Gerd\t,Home\t\n",
      "Daniel\t,None\t,\t,\t,\t\n",
      "David\t,None\t,\t,\t,\t\n",
      "Ridwan\t,None\t,\t,\t,\t\n",
      "Raihan\t,None\t,\t,\t,\t\n",
      "Rizz\t,None\t,\t,\t,\t\n",
      "Sigit\t,None\t,\t,\t,\t\n",
      "Stevi\t,None\t,\t,\t,\t\n",
      "Jack\t,None\t,\t,\t,\t\n"
     ]
    }
   ],
   "source": [
    "for index ,info in patient.items():\n",
    "    name = info['name']\n",
    "    room = info['room_id']\n",
    "    patientid = info['patient_id']\n",
    "    disease = info['disease']\n",
    "    status = info['status']\n",
    "\n",
    "    print(f'{name}\\t,{room}\\t,{patientid}\\t,{disease}\\t,{status}\\t')"
   ]
  },
  {
   "cell_type": "code",
   "execution_count": 284,
   "metadata": {},
   "outputs": [],
   "source": [
    "def show_patient():\n",
    "    print('bakal print nama patient')"
   ]
  },
  {
   "cell_type": "code",
   "execution_count": 285,
   "metadata": {},
   "outputs": [],
   "source": [
    "def show_room():\n",
    "    print('bakal print nama ruangan')"
   ]
  },
  {
   "cell_type": "code",
   "execution_count": 286,
   "metadata": {},
   "outputs": [],
   "source": [
    "def admin_1():\n",
    "    print('Show data')\n",
    "    print('1. Data Patient')\n",
    "    print('2. Data Room')\n",
    "    print('0. Back')\n",
    "    menu_admin = int(input('menu admin : '))\n",
    "    while menu_admin!=0:\n",
    "        if menu_admin==1:\n",
    "            show_patient()\n",
    "        elif menu_admin == 2:\n",
    "            show_room()\n",
    "        menu_admin = int(input('menu admin : '))\n",
    "    admin()    \n",
    "        "
   ]
  },
  {
   "cell_type": "code",
   "execution_count": 287,
   "metadata": {},
   "outputs": [],
   "source": [
    "def admin_2():\n",
    "    return None"
   ]
  },
  {
   "cell_type": "code",
   "execution_count": 288,
   "metadata": {},
   "outputs": [],
   "source": [
    "def admin_3():\n",
    "    return None"
   ]
  },
  {
   "cell_type": "code",
   "execution_count": 289,
   "metadata": {},
   "outputs": [],
   "source": [
    "def admin_4():\n",
    "    return None"
   ]
  },
  {
   "cell_type": "code",
   "execution_count": 290,
   "metadata": {},
   "outputs": [],
   "source": [
    "def admin():\n",
    "    print('HI ADMIN! Welcome to ADMIN DASHBOARD')\n",
    "    print('You\\'Re Super User Here')\n",
    "    print('1. Add Data')\n",
    "    print('2. Read Data')\n",
    "    print('3. Update Data')\n",
    "    print('4. Delete Data')\n",
    "    print('5. Main Menu')\n",
    "    admin_menu = int(input('Menu Choose:'))\n",
    "    if admin_menu == 1:\n",
    "        admin_1()\n",
    "    elif admin_menu == 2:\n",
    "        admin_2()\n",
    "    elif admin_menu == 3:\n",
    "        admin_3()\n",
    "    elif admin_menu == 4:\n",
    "        admin_4()\n",
    "    else:\n",
    "        main_menu()"
   ]
  },
  {
   "cell_type": "code",
   "execution_count": 291,
   "metadata": {},
   "outputs": [],
   "source": [
    "def patient_fam():\n",
    "    print('WELCOME TO HOSPITAL DASHBOARD')\n",
    "    print('YOU ONLY CAN FILTER NAME OF THE PATIENT')\n",
    "    print('Patient Name : ')\n",
    "    patient_nama=input('Patient name:')\n",
    "    print(patient_nama)\n",
    "    for index ,info in patient.items():\n",
    "        if info['name'].lower()==patient_nama.lower():\n",
    "            print(info['name'],'\\t',info['room_id'],'\\t',info['status'])\n",
    "            break\n",
    "    else:\n",
    "        print(f'No data have name : {patient_nama}')"
   ]
  },
  {
   "cell_type": "code",
   "execution_count": 292,
   "metadata": {},
   "outputs": [],
   "source": [
    "def main_menu():\n",
    "    print('What\\'s Your Role?')\n",
    "    print('1. ADMIN')\n",
    "    print('2. Patient Family')\n",
    "    \n"
   ]
  },
  {
   "cell_type": "code",
   "execution_count": 293,
   "metadata": {},
   "outputs": [
    {
     "name": "stdout",
     "output_type": "stream",
     "text": [
      "What's Your Role?\n",
      "1. ADMIN\n",
      "2. Patient Family\n",
      "WELCOME TO HOSPITAL DASHBOARD\n",
      "YOU ONLY CAN FILTER NAME OF THE PATIENT\n",
      "Patient Name : \n",
      "abidin\n",
      "Abidin \t None \t Home\n"
     ]
    }
   ],
   "source": [
    "main_menu()\n",
    "role = int(input('Fill your Role!'))\n",
    "while role !=0:\n",
    "    if role == 1:\n",
    "        admin()\n",
    "    if role == 2:\n",
    "        patient_fam()\n",
    "    role = int(input('Fill your Role!'))"
   ]
  }
 ],
 "metadata": {
  "kernelspec": {
   "display_name": "base",
   "language": "python",
   "name": "python3"
  },
  "language_info": {
   "codemirror_mode": {
    "name": "ipython",
    "version": 3
   },
   "file_extension": ".py",
   "mimetype": "text/x-python",
   "name": "python",
   "nbconvert_exporter": "python",
   "pygments_lexer": "ipython3",
   "version": "3.12.4"
  }
 },
 "nbformat": 4,
 "nbformat_minor": 2
}
